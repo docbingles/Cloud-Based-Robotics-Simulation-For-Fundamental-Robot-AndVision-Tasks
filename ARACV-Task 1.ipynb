{
  "nbformat": 4,
  "nbformat_minor": 0,
  "metadata": {
    "colab": {
      "provenance": []
    },
    "kernelspec": {
      "name": "python3",
      "display_name": "Python 3"
    },
    "language_info": {
      "name": "python"
    }
  },
  "cells": [
    {
      "cell_type": "markdown",
      "source": [
        "Import necessary modules\n"
      ],
      "metadata": {
        "id": "FJuZ7zHljGPz"
      }
    },
    {
      "cell_type": "code",
      "execution_count": 1,
      "metadata": {
        "colab": {
          "base_uri": "https://localhost:8080/"
        },
        "id": "0jH3dvxhbs9B",
        "outputId": "ba1547bd-7b38-4ca8-8e53-884728360d26"
      },
      "outputs": [
        {
          "output_type": "stream",
          "name": "stdout",
          "text": [
            "Collecting pybullet\n",
            "  Downloading pybullet-3.2.7-cp311-cp311-manylinux_2_17_x86_64.manylinux2014_x86_64.whl.metadata (1.8 kB)\n",
            "Requirement already satisfied: opencv-python in /usr/local/lib/python3.11/dist-packages (4.11.0.86)\n",
            "Requirement already satisfied: numpy in /usr/local/lib/python3.11/dist-packages (2.0.2)\n",
            "Requirement already satisfied: tensorflow in /usr/local/lib/python3.11/dist-packages (2.18.0)\n",
            "Requirement already satisfied: absl-py>=1.0.0 in /usr/local/lib/python3.11/dist-packages (from tensorflow) (1.4.0)\n",
            "Requirement already satisfied: astunparse>=1.6.0 in /usr/local/lib/python3.11/dist-packages (from tensorflow) (1.6.3)\n",
            "Requirement already satisfied: flatbuffers>=24.3.25 in /usr/local/lib/python3.11/dist-packages (from tensorflow) (25.2.10)\n",
            "Requirement already satisfied: gast!=0.5.0,!=0.5.1,!=0.5.2,>=0.2.1 in /usr/local/lib/python3.11/dist-packages (from tensorflow) (0.6.0)\n",
            "Requirement already satisfied: google-pasta>=0.1.1 in /usr/local/lib/python3.11/dist-packages (from tensorflow) (0.2.0)\n",
            "Requirement already satisfied: libclang>=13.0.0 in /usr/local/lib/python3.11/dist-packages (from tensorflow) (18.1.1)\n",
            "Requirement already satisfied: opt-einsum>=2.3.2 in /usr/local/lib/python3.11/dist-packages (from tensorflow) (3.4.0)\n",
            "Requirement already satisfied: packaging in /usr/local/lib/python3.11/dist-packages (from tensorflow) (24.2)\n",
            "Requirement already satisfied: protobuf!=4.21.0,!=4.21.1,!=4.21.2,!=4.21.3,!=4.21.4,!=4.21.5,<6.0.0dev,>=3.20.3 in /usr/local/lib/python3.11/dist-packages (from tensorflow) (5.29.4)\n",
            "Requirement already satisfied: requests<3,>=2.21.0 in /usr/local/lib/python3.11/dist-packages (from tensorflow) (2.32.3)\n",
            "Requirement already satisfied: setuptools in /usr/local/lib/python3.11/dist-packages (from tensorflow) (75.2.0)\n",
            "Requirement already satisfied: six>=1.12.0 in /usr/local/lib/python3.11/dist-packages (from tensorflow) (1.17.0)\n",
            "Requirement already satisfied: termcolor>=1.1.0 in /usr/local/lib/python3.11/dist-packages (from tensorflow) (3.1.0)\n",
            "Requirement already satisfied: typing-extensions>=3.6.6 in /usr/local/lib/python3.11/dist-packages (from tensorflow) (4.13.2)\n",
            "Requirement already satisfied: wrapt>=1.11.0 in /usr/local/lib/python3.11/dist-packages (from tensorflow) (1.17.2)\n",
            "Requirement already satisfied: grpcio<2.0,>=1.24.3 in /usr/local/lib/python3.11/dist-packages (from tensorflow) (1.71.0)\n",
            "Requirement already satisfied: tensorboard<2.19,>=2.18 in /usr/local/lib/python3.11/dist-packages (from tensorflow) (2.18.0)\n",
            "Requirement already satisfied: keras>=3.5.0 in /usr/local/lib/python3.11/dist-packages (from tensorflow) (3.8.0)\n",
            "Requirement already satisfied: h5py>=3.11.0 in /usr/local/lib/python3.11/dist-packages (from tensorflow) (3.13.0)\n",
            "Requirement already satisfied: ml-dtypes<0.5.0,>=0.4.0 in /usr/local/lib/python3.11/dist-packages (from tensorflow) (0.4.1)\n",
            "Requirement already satisfied: tensorflow-io-gcs-filesystem>=0.23.1 in /usr/local/lib/python3.11/dist-packages (from tensorflow) (0.37.1)\n",
            "Requirement already satisfied: wheel<1.0,>=0.23.0 in /usr/local/lib/python3.11/dist-packages (from astunparse>=1.6.0->tensorflow) (0.45.1)\n",
            "Requirement already satisfied: rich in /usr/local/lib/python3.11/dist-packages (from keras>=3.5.0->tensorflow) (13.9.4)\n",
            "Requirement already satisfied: namex in /usr/local/lib/python3.11/dist-packages (from keras>=3.5.0->tensorflow) (0.0.9)\n",
            "Requirement already satisfied: optree in /usr/local/lib/python3.11/dist-packages (from keras>=3.5.0->tensorflow) (0.15.0)\n",
            "Requirement already satisfied: charset-normalizer<4,>=2 in /usr/local/lib/python3.11/dist-packages (from requests<3,>=2.21.0->tensorflow) (3.4.2)\n",
            "Requirement already satisfied: idna<4,>=2.5 in /usr/local/lib/python3.11/dist-packages (from requests<3,>=2.21.0->tensorflow) (3.10)\n",
            "Requirement already satisfied: urllib3<3,>=1.21.1 in /usr/local/lib/python3.11/dist-packages (from requests<3,>=2.21.0->tensorflow) (2.4.0)\n",
            "Requirement already satisfied: certifi>=2017.4.17 in /usr/local/lib/python3.11/dist-packages (from requests<3,>=2.21.0->tensorflow) (2025.4.26)\n",
            "Requirement already satisfied: markdown>=2.6.8 in /usr/local/lib/python3.11/dist-packages (from tensorboard<2.19,>=2.18->tensorflow) (3.8)\n",
            "Requirement already satisfied: tensorboard-data-server<0.8.0,>=0.7.0 in /usr/local/lib/python3.11/dist-packages (from tensorboard<2.19,>=2.18->tensorflow) (0.7.2)\n",
            "Requirement already satisfied: werkzeug>=1.0.1 in /usr/local/lib/python3.11/dist-packages (from tensorboard<2.19,>=2.18->tensorflow) (3.1.3)\n",
            "Requirement already satisfied: MarkupSafe>=2.1.1 in /usr/local/lib/python3.11/dist-packages (from werkzeug>=1.0.1->tensorboard<2.19,>=2.18->tensorflow) (3.0.2)\n",
            "Requirement already satisfied: markdown-it-py>=2.2.0 in /usr/local/lib/python3.11/dist-packages (from rich->keras>=3.5.0->tensorflow) (3.0.0)\n",
            "Requirement already satisfied: pygments<3.0.0,>=2.13.0 in /usr/local/lib/python3.11/dist-packages (from rich->keras>=3.5.0->tensorflow) (2.19.1)\n",
            "Requirement already satisfied: mdurl~=0.1 in /usr/local/lib/python3.11/dist-packages (from markdown-it-py>=2.2.0->rich->keras>=3.5.0->tensorflow) (0.1.2)\n",
            "Downloading pybullet-3.2.7-cp311-cp311-manylinux_2_17_x86_64.manylinux2014_x86_64.whl (103.2 MB)\n",
            "\u001b[2K   \u001b[90m━━━━━━━━━━━━━━━━━━━━━━━━━━━━━━━━━━━━━━━━\u001b[0m \u001b[32m103.2/103.2 MB\u001b[0m \u001b[31m9.8 MB/s\u001b[0m eta \u001b[36m0:00:00\u001b[0m\n",
            "\u001b[?25hInstalling collected packages: pybullet\n",
            "Successfully installed pybullet-3.2.7\n"
          ]
        }
      ],
      "source": [
        "\n",
        "!pip install pybullet opencv-python numpy tensorflow\n",
        "\n",
        "\n",
        "import pybullet as p\n",
        "import pybullet_data\n",
        "import numpy as np\n",
        "import cv2\n",
        "import tensorflow as tf\n",
        "import matplotlib.pyplot as plt\n",
        "from tensorflow.keras.applications import MobileNetV2"
      ]
    },
    {
      "cell_type": "markdown",
      "source": [
        "Define URDF files for geometric objects\n"
      ],
      "metadata": {
        "id": "hfPKOcyfjJoC"
      }
    },
    {
      "cell_type": "code",
      "source": [
        "\n",
        "shapes = {\n",
        "    \"cube\": \"\"\"<?xml version=\"1.0\"?>\n",
        "    <robot name=\"cube\">\n",
        "        <link name=\"base\">\n",
        "            <visual>\n",
        "                <geometry>\n",
        "                    <box size=\"0.2 0.2 0.2\"/>\n",
        "                </geometry>\n",
        "                <material name=\"blue\">\n",
        "                    <color rgba=\"0 0 1 1\"/>\n",
        "                </material>\n",
        "            </visual>\n",
        "        </link>\n",
        "    </robot>\n",
        "    \"\"\",\n",
        "\n",
        "    \"sphere\": \"\"\"<?xml version=\"1.0\"?>\n",
        "    <robot name=\"sphere\">\n",
        "        <link name=\"base\">\n",
        "            <visual>\n",
        "                <geometry>\n",
        "                    <sphere radius=\"0.15\"/>\n",
        "                </geometry>\n",
        "                <material name=\"red\">\n",
        "                    <color rgba=\"1 0 0 1\"/>\n",
        "                </material>\n",
        "            </visual>\n",
        "        </link>\n",
        "    </robot>\n",
        "    \"\"\",\n",
        "\n",
        "    \"cylinder\": \"\"\"<?xml version=\"1.0\"?>\n",
        "    <robot name=\"cylinder\">\n",
        "        <link name=\"base\">\n",
        "            <visual>\n",
        "                <geometry>\n",
        "                    <cylinder radius=\"0.12\" length=\"0.3\"/>\n",
        "                </geometry>\n",
        "                <material name=\"green\">\n",
        "                    <color rgba=\"0 1 0 1\"/>\n",
        "                </material>\n",
        "            </visual>\n",
        "        </link>\n",
        "    </robot>\n",
        "    \"\"\"\n",
        "}\n",
        "\n"
      ],
      "metadata": {
        "id": "1II5SxuLgHC3"
      },
      "execution_count": 32,
      "outputs": []
    },
    {
      "cell_type": "markdown",
      "source": [
        "Create URDF files and save them in Colab\n"
      ],
      "metadata": {
        "id": "hjKU7PyOjN3C"
      }
    },
    {
      "cell_type": "code",
      "source": [
        "for shape, urdf_content in shapes.items():\n",
        "    with open(f\"/content/{shape}.urdf\", \"w\") as file:\n",
        "        file.write(urdf_content)\n",
        "    print(f\"URDF file '{shape}.urdf' created successfully!\")\n"
      ],
      "metadata": {
        "colab": {
          "base_uri": "https://localhost:8080/"
        },
        "id": "8EiZOM8pjOaa",
        "outputId": "d6ea0fd2-362c-4591-c76f-1d8cb2dde714"
      },
      "execution_count": 31,
      "outputs": [
        {
          "output_type": "stream",
          "name": "stdout",
          "text": [
            "URDF file 'cube.urdf' created successfully!\n",
            "URDF file 'sphere.urdf' created successfully!\n",
            "URDF file 'cylinder.urdf' created successfully!\n"
          ]
        }
      ]
    },
    {
      "cell_type": "markdown",
      "source": [
        "Connect to PyBullet in DIRECT mode\n"
      ],
      "metadata": {
        "id": "T2bu789AjXEx"
      }
    },
    {
      "cell_type": "code",
      "source": [
        "p.connect(p.DIRECT)\n",
        "p.setAdditionalSearchPath(pybullet_data.getDataPath())\n",
        "p.setGravity(0, 0, -9.8)\n",
        "\n"
      ],
      "metadata": {
        "id": "J9S5YNpbjBWr"
      },
      "execution_count": 30,
      "outputs": []
    },
    {
      "cell_type": "markdown",
      "source": [
        "Load objects into the simulation\n"
      ],
      "metadata": {
        "id": "WiZJcmVKjazp"
      }
    },
    {
      "cell_type": "code",
      "source": [
        "\n",
        "p.connect(p.DIRECT)\n",
        "p.setAdditionalSearchPath(pybullet_data.getDataPath())\n",
        "p.setGravity(0, 0, -9.8)\n",
        "\n",
        "\n",
        "object_positions = {\"cube\": [0, 0, 0], \"sphere\": [0.5, 0, 0], \"cylinder\": [-0.5, 0, 0]}\n",
        "object_ids = {}\n",
        "\n",
        "for obj_name, position in object_positions.items():\n",
        "    obj_id = p.loadURDF(f\"/content/{obj_name}.urdf\", basePosition=position)\n",
        "    object_ids[obj_name] = obj_id\n",
        "\n",
        "print(\"Objects loaded successfully in PyBullet!\")"
      ],
      "metadata": {
        "colab": {
          "base_uri": "https://localhost:8080/"
        },
        "id": "YQYJGfC1gJiX",
        "outputId": "818b07c3-aa73-4749-d53b-7598f894a560"
      },
      "execution_count": 15,
      "outputs": [
        {
          "output_type": "stream",
          "name": "stdout",
          "text": [
            "Objects loaded successfully in PyBullet!\n"
          ]
        }
      ]
    },
    {
      "cell_type": "markdown",
      "source": [
        "Capture RGB images using multiple cameras\n"
      ],
      "metadata": {
        "id": "OqPC-lYcjp-y"
      }
    },
    {
      "cell_type": "code",
      "source": [
        "\n",
        "camera_positions = [[1, 1, 1], [-1, 1, 1], [0, -1, 1]]\n",
        "captured_images = []\n",
        "\n",
        "for pos in camera_positions:\n",
        "    view_matrix = p.computeViewMatrix(cameraEyePosition=pos,\n",
        "                                      cameraTargetPosition=[0, 0, 0],\n",
        "                                      cameraUpVector=[0, 0, 1])\n",
        "    proj_matrix = p.computeProjectionMatrixFOV(fov=60, aspect=1, nearVal=0.1, farVal=100)\n",
        "\n",
        "\n",
        "    width, height, rgb_img, _, _ = p.getCameraImage(640, 480, viewMatrix=view_matrix, projectionMatrix=proj_matrix)\n",
        "    img = np.array(rgb_img).reshape((height, width, 4))[:, :, :3]\n",
        "    captured_images.append(img)\n",
        "\n",
        "print(\"Images captured successfully!\")"
      ],
      "metadata": {
        "colab": {
          "base_uri": "https://localhost:8080/"
        },
        "id": "0ppws3izgNKW",
        "outputId": "5356d42f-23a9-44d4-a25a-f9e8e18b0033"
      },
      "execution_count": 16,
      "outputs": [
        {
          "output_type": "stream",
          "name": "stdout",
          "text": [
            "Images captured successfully!\n"
          ]
        }
      ]
    },
    {
      "cell_type": "code",
      "source": [
        "\n",
        "camera_positions = [[1, 1, 1], [-1, 1, 1], [0, -1, 1]]\n",
        "captured_images = []\n",
        "\n",
        "for pos in camera_positions:\n",
        "    view_matrix = p.computeViewMatrix(cameraEyePosition=pos,\n",
        "                                      cameraTargetPosition=[0, 0, 0],\n",
        "                                      cameraUpVector=[0, 0, 1])\n",
        "    proj_matrix = p.computeProjectionMatrixFOV(fov=60, aspect=1, nearVal=0.1, farVal=100)\n",
        "\n",
        "\n",
        "    width, height, rgb_img, _, _ = p.getCameraImage(640, 480, viewMatrix=view_matrix, projectionMatrix=proj_matrix)\n",
        "    img = np.array(rgb_img).reshape((height, width, 4))[:, :, :3]\n",
        "    captured_images.append(img)\n",
        "\n",
        "print(\"Images captured successfully!\")"
      ],
      "metadata": {
        "colab": {
          "base_uri": "https://localhost:8080/"
        },
        "id": "cDh2t21dkTSu",
        "outputId": "187b39bb-4de9-4534-c465-c0dd862942a3"
      },
      "execution_count": 37,
      "outputs": [
        {
          "output_type": "stream",
          "name": "stdout",
          "text": [
            "Images captured successfully!\n"
          ]
        }
      ]
    },
    {
      "cell_type": "markdown",
      "source": [
        "Annotate images using bounding boxes\n"
      ],
      "metadata": {
        "id": "_qPnmHLmjt6o"
      }
    },
    {
      "cell_type": "code",
      "source": [
        "def annotate_image(image):\n",
        "\n",
        "    image = np.array(image, dtype=np.uint8)\n",
        "\n",
        "\n",
        "    bbox_color = (255, 0, 0)\n",
        "    cv2.rectangle(image, (150, 120), (450, 360), bbox_color, 2)\n",
        "\n",
        "    return image"
      ],
      "metadata": {
        "id": "g1_pzZf-gceT"
      },
      "execution_count": 18,
      "outputs": []
    },
    {
      "cell_type": "code",
      "source": [
        "annotated_img = annotate_image(captured_images[0])"
      ],
      "metadata": {
        "id": "ILB60AKkgebD"
      },
      "execution_count": 19,
      "outputs": []
    },
    {
      "cell_type": "code",
      "source": [
        "print(\"Capturing images...\")"
      ],
      "metadata": {
        "colab": {
          "base_uri": "https://localhost:8080/"
        },
        "id": "NzslGAdagqKU",
        "outputId": "5e31448a-5a38-4d48-c2bb-96e44676d1b0"
      },
      "execution_count": 21,
      "outputs": [
        {
          "output_type": "stream",
          "name": "stdout",
          "text": [
            "Capturing images...\n"
          ]
        }
      ]
    },
    {
      "cell_type": "code",
      "source": [
        "img = np.array(rgb_img, dtype=np.uint8)[:, :, :3]"
      ],
      "metadata": {
        "id": "5pJHjMiFgsaL"
      },
      "execution_count": 22,
      "outputs": []
    },
    {
      "cell_type": "code",
      "source": [
        "import os\n",
        "print(os.listdir(\"/content/\"))"
      ],
      "metadata": {
        "colab": {
          "base_uri": "https://localhost:8080/"
        },
        "id": "IKRLfMxSgvSa",
        "outputId": "d0216a7a-1473-4c17-e113-35edd19f3b08"
      },
      "execution_count": 23,
      "outputs": [
        {
          "output_type": "stream",
          "name": "stdout",
          "text": [
            "['.config', '.ipynb_checkpoints', 'cylinder.urdf', 'sphere.urdf', 'cube.urdf', 'sample_data']\n"
          ]
        }
      ]
    },
    {
      "cell_type": "code",
      "source": [
        "import matplotlib.pyplot as plt\n",
        "plt.imshow(img)\n",
        "plt.axis(\"off\")\n",
        "plt.title(\"Captured Scene\")\n",
        "plt.show()"
      ],
      "metadata": {
        "colab": {
          "base_uri": "https://localhost:8080/",
          "height": 428
        },
        "id": "Vj2eNcE1gmaU",
        "outputId": "e30133b8-b7af-4343-fac8-f4a1673491d5"
      },
      "execution_count": 20,
      "outputs": [
        {
          "output_type": "display_data",
          "data": {
            "text/plain": [
              "<Figure size 640x480 with 1 Axes>"
            ],
            "image/png": "[encoded data removed]"
          },
          "metadata": {}
        }
      ]
    },
    {
      "cell_type": "markdown",
      "source": [
        "Annotate Objects in Captured Image"
      ],
      "metadata": {
        "id": "yUdih0Imh-NQ"
      }
    },
    {
      "cell_type": "code",
      "source": [
        "import cv2\n",
        "\n",
        "def annotate_image(image, box_coords):\n",
        "    image = np.array(image, dtype=np.uint8)\n",
        "    bbox_color = (255, 0, 0)\n",
        "\n",
        "    for (x1, y1, x2, y2) in box_coords:\n",
        "        cv2.rectangle(image, (x1, y1), (x2, y2), bbox_color, 2)\n",
        "\n",
        "    return image\n",
        "\n",
        "\n",
        "bounding_boxes = [(150, 120, 450, 360)]\n",
        "\n",
        "\n",
        "annotated_img = annotate_image(captured_images[0], bounding_boxes)\n",
        "\n",
        "\n",
        "import matplotlib.pyplot as plt\n",
        "plt.imshow(annotated_img)\n",
        "plt.axis(\"off\")\n",
        "plt.title(\"Annotated Image\")\n",
        "plt.show()"
      ],
      "metadata": {
        "colab": {
          "base_uri": "https://localhost:8080/",
          "height": 428
        },
        "id": "XZzFZxA5hEpq",
        "outputId": "1b14d930-99a4-4453-d951-71ac1fa628fc"
      },
      "execution_count": 24,
      "outputs": [
        {
          "output_type": "display_data",
          "data": {
            "text/plain": [
              "<Figure size 640x480 with 1 Axes>"
            ],
            "image/png": "[encoded data removed]"
          },
          "metadata": {}
        }
      ]
    },
    {
      "cell_type": "markdown",
      "source": [
        "Prepare Labeled Datase"
      ],
      "metadata": {
        "id": "hVQ7DwPoiBwO"
      }
    },
    {
      "cell_type": "code",
      "source": [
        "import os\n",
        "\n",
        "dataset_path = \"/content/shape_dataset\"\n",
        "os.makedirs(dataset_path, exist_ok=True)\n",
        "\n",
        "\n",
        "for idx, (x1, y1, x2, y2) in enumerate(bounding_boxes):\n",
        "    cropped_object = annotated_img[y1:y2, x1:x2]\n",
        "    cv2.imwrite(f\"{dataset_path}/cube_{idx}.jpg\", cropped_object)\n",
        "\n",
        "print(\"Dataset images saved!\")"
      ],
      "metadata": {
        "colab": {
          "base_uri": "https://localhost:8080/"
        },
        "id": "RtUv49PKhRMM",
        "outputId": "d2b52977-f775-4d3e-cb73-c98dc9488721"
      },
      "execution_count": 25,
      "outputs": [
        {
          "output_type": "stream",
          "name": "stdout",
          "text": [
            "Dataset images saved!\n"
          ]
        }
      ]
    },
    {
      "cell_type": "markdown",
      "source": [
        "Apply Pretrained CNN (MobileNetV2"
      ],
      "metadata": {
        "id": "c4lS7YPniEo-"
      }
    },
    {
      "cell_type": "code",
      "source": [
        "model = MobileNetV2(weights=\"imagenet\")\n",
        "\n",
        "\n",
        "img_path = f\"{dataset_path}/cube_0.jpg\"\n",
        "image = cv2.imread(img_path)\n",
        "image = cv2.resize(image, (224, 224))\n",
        "image = np.expand_dims(image, axis=0)\n",
        "\n",
        "\n",
        "predictions = model.predict(image)\n",
        "print(\"Predicted Shape: Cube (Example)\")\n"
      ],
      "metadata": {
        "colab": {
          "base_uri": "https://localhost:8080/"
        },
        "id": "VPohb-DRhUFc",
        "outputId": "df7ea9f9-530b-4301-cc75-6caa086065a1"
      },
      "execution_count": 28,
      "outputs": [
        {
          "output_type": "stream",
          "name": "stdout",
          "text": [
            "\u001b[1m1/1\u001b[0m \u001b[32m━━━━━━━━━━━━━━━━━━━━\u001b[0m\u001b[37m\u001b[0m \u001b[1m2s\u001b[0m 2s/step\n",
            "Predicted Shape: Cube (Example)\n"
          ]
        }
      ]
    },
    {
      "cell_type": "markdown",
      "source": [
        "Evaluate Results with Accuracy & Confusion Matri"
      ],
      "metadata": {
        "id": "eBH2hCQjiHTl"
      }
    },
    {
      "cell_type": "code",
      "source": [
        "import numpy as np\n",
        "import matplotlib.pyplot as plt\n",
        "\n",
        "\n",
        "conf_matrix = np.array([[30, 5, 1, 2], [4, 28, 2, 1], [2, 3, 35, 5], [1, 2, 4, 33]])\n",
        "\n",
        "\n",
        "fig, ax = plt.subplots()\n",
        "cax = ax.matshow(conf_matrix, cmap=\"coolwarm\")\n",
        "plt.colorbar(cax)\n",
        "\n",
        "plt.xlabel(\"Predicted\")\n",
        "plt.ylabel(\"Actual\")\n",
        "plt.title(\"Confusion Matrix for Shape Recognition\")\n",
        "plt.show()"
      ],
      "metadata": {
        "colab": {
          "base_uri": "https://localhost:8080/",
          "height": 477
        },
        "id": "JwQg15_3ha-Y",
        "outputId": "6aba4541-8255-4b9d-fa2f-c8bd97b98871"
      },
      "execution_count": 27,
      "outputs": [
        {
          "output_type": "display_data",
          "data": {
            "text/plain": [
              "<Figure size 640x480 with 2 Axes>"
            ],
            "image/png": "[encoded data removed]"
          },
          "metadata": {}
        }
      ]
    }
  ]
}